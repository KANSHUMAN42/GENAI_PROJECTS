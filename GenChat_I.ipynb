{
  "nbformat": 4,
  "nbformat_minor": 0,
  "metadata": {
    "colab": {
      "provenance": [],
      "authorship_tag": "ABX9TyOa72zRxqEKdK3bmh0khJPo",
      "include_colab_link": true
    },
    "kernelspec": {
      "name": "python3",
      "display_name": "Python 3"
    },
    "language_info": {
      "name": "python"
    }
  },
  "cells": [
    {
      "cell_type": "markdown",
      "metadata": {
        "id": "view-in-github",
        "colab_type": "text"
      },
      "source": [
        "<a href=\"https://colab.research.google.com/github/KANSHUMAN42/GENAI_PROJECTS/blob/main/GenChat_I.ipynb\" target=\"_parent\"><img src=\"https://colab.research.google.com/assets/colab-badge.svg\" alt=\"Open In Colab\"/></a>"
      ]
    },
    {
      "cell_type": "markdown",
      "source": [
        "A generative Ai Project.\n"
      ],
      "metadata": {
        "id": "mULZYtTRrqcc"
      }
    },
    {
      "cell_type": "code",
      "source": [
        "pip install -qU langchain-openai"
      ],
      "metadata": {
        "id": "fw91GLqqQJME"
      },
      "execution_count": null,
      "outputs": []
    },
    {
      "cell_type": "code",
      "source": [
        "pip install -U langchain-community langchain-cohere"
      ],
      "metadata": {
        "id": "JxKgpCJyTCXT"
      },
      "execution_count": null,
      "outputs": []
    },
    {
      "cell_type": "code",
      "source": [
        "pip install langchain-huggingface\n"
      ],
      "metadata": {
        "id": "QAxbogGyY95z"
      },
      "execution_count": null,
      "outputs": []
    },
    {
      "cell_type": "code",
      "source": [
        "!pip install huggingface_hub\n",
        "!pip install transformers\n",
        "!pip install accelerate\n",
        "!pip install  bitsandbytes\n",
        "!pip install langchain"
      ],
      "metadata": {
        "id": "RmowtxiNb6aM"
      },
      "execution_count": null,
      "outputs": []
    },
    {
      "cell_type": "code",
      "execution_count": 36,
      "metadata": {
        "id": "54dDVEQPrEXi"
      },
      "outputs": [],
      "source": [
        "from google.colab import userdata\n",
        "# sec_key = userdata.get('Test_Secret')\n",
        "open_AI_key = userdata.get('OPEN_AI_KEY')\n",
        "cohere_API_Key = userdata.get('COHERE_KEY')\n",
        "sec_key=userdata.get(\"HUGGING_SECRET\")\n",
        "# print(sec_key)\n"
      ]
    },
    {
      "cell_type": "code",
      "source": [
        "from langchain_huggingface import HuggingFaceEndpoint\n",
        "import os\n",
        "\n",
        "os.environ[\"HUGGINGFACEHUB_API_TOKEN\"]=sec_key\n",
        "repo_id=\"mistralai/Mistral-7B-Instruct-v0.2\"\n",
        "llm=HuggingFaceEndpoint(repo_id=repo_id,max_length=128,temperature=0.7,token=sec_key)\n",
        "\n",
        "llm.invoke(\"\")\n"
      ],
      "metadata": {
        "id": "xoWiZUBDcH-A"
      },
      "execution_count": null,
      "outputs": []
    },
    {
      "cell_type": "code",
      "source": [
        "# LLM using OpenAi and LangChain\n",
        "from langchain_openai import ChatOpenAI\n",
        "from langchain_core.messages import HumanMessage, SystemMessage\n",
        "import os\n",
        "\n",
        "if not os.environ.get(\"OPENAI_API_KEY\"):\n",
        "    os.environ[\"OPENAI_API_KEY\"] = open_AI_key\n",
        "\n",
        "model = ChatOpenAI(\n",
        "    model=\"gpt-4o-mini\",\n",
        "    temperature=0,\n",
        "    max_tokens=30,\n",
        "    timeout=None,\n",
        "    max_retries=2,)\n",
        "\n",
        "messages = [\n",
        "    SystemMessage(\"Translate the following from English into Italian\"),\n",
        "    HumanMessage(\"I like eating cheese cake!\"),\n",
        "]\n",
        "\n",
        "model.invoke(messages)\n",
        "\n"
      ],
      "metadata": {
        "id": "LKfWXFtmKUwz"
      },
      "execution_count": null,
      "outputs": []
    },
    {
      "cell_type": "markdown",
      "source": [
        "Chat app using Langchain and Cohere"
      ],
      "metadata": {
        "id": "9gpK3frCSvrE"
      }
    },
    {
      "cell_type": "code",
      "source": [
        "from langchain_cohere import Cohere\n",
        "from langchain_core.messages import HumanMessage\n",
        "\n",
        "if not os.environ.get(\"COHERE_API_KEY\"):\n",
        "   os.environ[\"COHERE_API_KEY\"] = open_AI_key\n",
        "\n",
        "model = Cohere(max_tokens=256, temperature=0.75)\n",
        "message = \"Knock knock\"\n",
        "response = model.invoke(message)\n",
        "print(response)\n",
        ""
      ],
      "metadata": {
        "id": "i6w2ErTRStcW"
      },
      "execution_count": null,
      "outputs": []
    },
    {
      "cell_type": "markdown",
      "source": [
        "Using Hugging Face creating a chat application"
      ],
      "metadata": {
        "id": "qEweUdtzWeLW"
      }
    },
    {
      "cell_type": "code",
      "source": [],
      "metadata": {
        "id": "EWVxwjxpStT-"
      },
      "execution_count": null,
      "outputs": []
    }
  ]
}